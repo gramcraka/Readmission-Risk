{
 "cells": [
  {
   "cell_type": "code",
   "execution_count": 1,
   "metadata": {},
   "outputs": [],
   "source": [
    "%matplotlib inline"
   ]
  },
  {
   "cell_type": "markdown",
   "metadata": {},
   "source": [
    "# Import Dataset"
   ]
  },
  {
   "cell_type": "code",
   "execution_count": 347,
   "metadata": {},
   "outputs": [
    {
     "name": "stdout",
     "output_type": "stream",
     "text": [
      "101766\n",
      "99493\n",
      "Female    53576\n",
      "Male      45917\n",
      "Name: gender, dtype: int64\n"
     ]
    }
   ],
   "source": [
    "import pandas as pd\n",
    "import numpy as np\n",
    "from tabulate import tabulate\n",
    "\n",
    "# read in the csv file\n",
    "diabetic_ds = pd.read_csv('/Users/ethan.graham/Desktop/MSDS 6120 Capstone A/diabetic_data.csv') \n",
    "\n",
    "print(len(diabetic_ds))\n",
    "# Would be nice to include weight, but the data is mostly missing\n",
    "categoryColumnNames = [\n",
    "    'discharge_disposition_id',\n",
    "    'admission_type_id',\n",
    "    'admission_source_id',\n",
    "    'insulin',\n",
    "    'race',\n",
    "    'gender',\n",
    "    'diabetesMed'\n",
    "]\n",
    "\n",
    "scalarColumnNames = [\n",
    "    'age',\n",
    "    'time_in_hospital',\n",
    "    'number_diagnoses'\n",
    "]\n",
    "\n",
    "diabetic = diabetic_ds[np.concatenate((categoryColumnNames, scalarColumnNames, ['readmitted']))]\n",
    "del diabetic_ds\n",
    "\n",
    "# Drop samples with missing data.\n",
    "diabetic = diabetic.replace('?', np.nan).dropna(subset = ['race'], how = 'all')\n",
    "\n",
    "# Replace missing gender values with the gender mode\n",
    "diabetic['gender'].replace(to_replace ='Unknown/Invalid', value = diabetic['gender'].mode()[0], inplace = True)\n",
    "\n",
    "for col in np.concatenate((categoryColumnNames, scalarColumnNames)):\n",
    "    assert col in diabetic \n",
    "\n",
    "print(diabetic.gender.value_counts())"
   ]
  },
  {
   "cell_type": "code",
   "execution_count": null,
   "metadata": {},
   "outputs": [],
   "source": []
  },
  {
   "cell_type": "code",
   "execution_count": 239,
   "metadata": {},
   "outputs": [
    {
     "name": "stderr",
     "output_type": "stream",
     "text": [
      "/anaconda/lib/python3.6/site-packages/sklearn/preprocessing/data.py:625: DataConversionWarning: Data with input dtype int64 were all converted to float64 by StandardScaler.\n",
      "  return self.partial_fit(X, y)\n",
      "/anaconda/lib/python3.6/site-packages/sklearn/base.py:462: DataConversionWarning: Data with input dtype int64 were all converted to float64 by StandardScaler.\n",
      "  return self.fit(X, **fit_params).transform(X)\n"
     ]
    },
    {
     "name": "stdout",
     "output_type": "stream",
     "text": [
      "  discharge_disposition_id    admission_type_id    admission_source_id  insulin    race             gender    diabetesMed\n",
      "--------------------------  -------------------  ---------------------  ---------  ---------------  --------  -------------\n",
      "                        25                    6                      1  No         Caucasian        Female    No\n",
      "                         1                    1                      7  Up         AfricanAmerican  Male      Yes\n",
      "                         3                    2                      2  Steady     Other\n",
      "                         6                    3                      4  Down       Asian\n",
      "                         2                    4                      5             Hispanic\n",
      "                         5                    5                      6\n",
      "                        11                    8                     20\n",
      "                         7                    7                      3\n",
      "                        10                                          17\n",
      "                         4                                           8\n",
      "                        14                                           9\n",
      "                        18                                          14\n",
      "                         8                                          10\n",
      "                        13                                          22\n",
      "                        12                                          11\n",
      "                        16                                          25\n",
      "                        17                                          13\n",
      "                        22\n",
      "                        23\n",
      "                         9\n",
      "                        20\n",
      "                        15\n",
      "                        24\n",
      "                        28\n",
      "                        19\n",
      "                        27\n",
      "{'age': 4.450402334988072, 'time_in_hospital': 1.4725397721724045, 'number_diagnoses': 3.862413047044798}\n",
      "0    88324\n",
      "1    11169\n",
      "Name: readmitted, dtype: int64\n"
     ]
    }
   ],
   "source": [
    "from sklearn.preprocessing import StandardScaler\n",
    "\n",
    "# Replace age as numeric based on the range string\n",
    "diabetic['age'].replace(to_replace = {'[0-10)'   : np.uint8(1),\n",
    "                                      '[10-20)'  : np.uint8(2),\n",
    "                                      '[20-30)'  : np.uint8(3),\n",
    "                                      '[30-40)'  : np.uint8(4),\n",
    "                                      '[40-50)'  : np.uint8(5),\n",
    "                                      '[50-60)'  : np.uint8(6),\n",
    "                                      '[60-70)'  : np.uint8(7),\n",
    "                                      '[70-80)'  : np.uint8(8),\n",
    "                                      '[80-90)'  : np.uint8(9),\n",
    "                                      '[90-100)' : np.uint8(10)}, inplace = True)\n",
    "\n",
    "for colName in categoryColumnNames:\n",
    "    diabetic[colName] = diabetic[colName].astype('category')\n",
    "\n",
    "# Will be usefull later so save the dict now\n",
    "readmittedDict = {'NO'  : np.uint8(0),\n",
    "                  '<30' : np.uint8(1),\n",
    "                  '>30' : np.uint8(0)} # readmissions after 30 days don't count\n",
    "\n",
    "diabetic['readmitted'].replace(to_replace = readmittedDict, inplace = True)\n",
    "\n",
    "for colName in scalarColumnNames:\n",
    "    assert np.any(np.isnan(diabetic[colName].values)) == False, colName\n",
    "\n",
    "# Avoid scaling dummy variables: \n",
    "# https://stats.stackexchange.com/questions/381643/scale-dummy-variables-in-logistic-regression\n",
    "diabeticScaled = pd.DataFrame(StandardScaler(with_mean=False).fit_transform(diabetic[scalarColumnNames]),\n",
    "                              columns = scalarColumnNames, index = diabetic.index)\n",
    "\n",
    "for colName in scalarColumnNames:\n",
    "    del diabetic[colName]\n",
    "\n",
    "\n",
    "# Add dummy variables to the data set\n",
    "dummies = pd.get_dummies(\n",
    "                      diabetic[categoryColumnNames],\n",
    "                      drop_first = True # Avoid multicolinearity in the dummy columns\n",
    ")\n",
    "\n",
    "for df in [dummies, diabeticScaled]:\n",
    "    for colName, data in df.iteritems():\n",
    "        assert np.any(np.isnan(data)) == False, colName\n",
    "        # Careful when assigning new columns in a DataFrame:\n",
    "        # https://stackoverflow.com/questions/12555323/adding-new-column-to-existing-dataframe-in-python-pandas\n",
    "        data.index = diabetic.index\n",
    "        diabetic[colName] = data\n",
    "        assert len(data) == len(diabetic[colName])\n",
    "        assert np.any(np.isnan(diabetic[colName].values)) == False, colName\n",
    "\n",
    "\n",
    "for colName in scalarColumnNames:\n",
    "    assert np.any(np.isnan(diabetic[colName].values)) == False, colName\n",
    "\n",
    "# Check results\n",
    "print(tabulate({x : diabetic[x].unique() for x in categoryColumnNames}, headers = 'keys'))\n",
    "print({x : diabetic[x].mean() for x in scalarColumnNames})\n",
    "print(diabetic.readmitted.value_counts())\n",
    "\n",
    "# Delete redundant variables\n",
    "for colName in categoryColumnNames:\n",
    "    del diabetic[colName]"
   ]
  },
  {
   "cell_type": "code",
   "execution_count": 240,
   "metadata": {
    "scrolled": false
   },
   "outputs": [
    {
     "name": "stdout",
     "output_type": "stream",
     "text": [
      "<class 'pandas.core.frame.DataFrame'>\n",
      "Int64Index: 99493 entries, 0 to 101765\n",
      "Data columns (total 61 columns):\n",
      "readmitted                     99493 non-null int64\n",
      "discharge_disposition_id_2     99493 non-null uint8\n",
      "discharge_disposition_id_3     99493 non-null uint8\n",
      "discharge_disposition_id_4     99493 non-null uint8\n",
      "discharge_disposition_id_5     99493 non-null uint8\n",
      "discharge_disposition_id_6     99493 non-null uint8\n",
      "discharge_disposition_id_7     99493 non-null uint8\n",
      "discharge_disposition_id_8     99493 non-null uint8\n",
      "discharge_disposition_id_9     99493 non-null uint8\n",
      "discharge_disposition_id_10    99493 non-null uint8\n",
      "discharge_disposition_id_11    99493 non-null uint8\n",
      "discharge_disposition_id_12    99493 non-null uint8\n",
      "discharge_disposition_id_13    99493 non-null uint8\n",
      "discharge_disposition_id_14    99493 non-null uint8\n",
      "discharge_disposition_id_15    99493 non-null uint8\n",
      "discharge_disposition_id_16    99493 non-null uint8\n",
      "discharge_disposition_id_17    99493 non-null uint8\n",
      "discharge_disposition_id_18    99493 non-null uint8\n",
      "discharge_disposition_id_19    99493 non-null uint8\n",
      "discharge_disposition_id_20    99493 non-null uint8\n",
      "discharge_disposition_id_22    99493 non-null uint8\n",
      "discharge_disposition_id_23    99493 non-null uint8\n",
      "discharge_disposition_id_24    99493 non-null uint8\n",
      "discharge_disposition_id_25    99493 non-null uint8\n",
      "discharge_disposition_id_27    99493 non-null uint8\n",
      "discharge_disposition_id_28    99493 non-null uint8\n",
      "admission_type_id_2            99493 non-null uint8\n",
      "admission_type_id_3            99493 non-null uint8\n",
      "admission_type_id_4            99493 non-null uint8\n",
      "admission_type_id_5            99493 non-null uint8\n",
      "admission_type_id_6            99493 non-null uint8\n",
      "admission_type_id_7            99493 non-null uint8\n",
      "admission_type_id_8            99493 non-null uint8\n",
      "admission_source_id_2          99493 non-null uint8\n",
      "admission_source_id_3          99493 non-null uint8\n",
      "admission_source_id_4          99493 non-null uint8\n",
      "admission_source_id_5          99493 non-null uint8\n",
      "admission_source_id_6          99493 non-null uint8\n",
      "admission_source_id_7          99493 non-null uint8\n",
      "admission_source_id_8          99493 non-null uint8\n",
      "admission_source_id_9          99493 non-null uint8\n",
      "admission_source_id_10         99493 non-null uint8\n",
      "admission_source_id_11         99493 non-null uint8\n",
      "admission_source_id_13         99493 non-null uint8\n",
      "admission_source_id_14         99493 non-null uint8\n",
      "admission_source_id_17         99493 non-null uint8\n",
      "admission_source_id_20         99493 non-null uint8\n",
      "admission_source_id_22         99493 non-null uint8\n",
      "admission_source_id_25         99493 non-null uint8\n",
      "insulin_No                     99493 non-null uint8\n",
      "insulin_Steady                 99493 non-null uint8\n",
      "insulin_Up                     99493 non-null uint8\n",
      "race_Asian                     99493 non-null uint8\n",
      "race_Caucasian                 99493 non-null uint8\n",
      "race_Hispanic                  99493 non-null uint8\n",
      "race_Other                     99493 non-null uint8\n",
      "gender_Male                    99493 non-null uint8\n",
      "diabetesMed_Yes                99493 non-null uint8\n",
      "age                            99493 non-null float64\n",
      "time_in_hospital               99493 non-null float64\n",
      "number_diagnoses               99493 non-null float64\n",
      "dtypes: float64(3), int64(1), uint8(57)\n",
      "memory usage: 9.2 MB\n"
     ]
    },
    {
     "data": {
      "text/plain": [
       "{0.6272117235563558,\n",
       " 1.2544234471127116,\n",
       " 1.8816351706690673,\n",
       " 2.508846894225423,\n",
       " 3.136058617781779,\n",
       " 3.7632703413381345,\n",
       " 4.39048206489449,\n",
       " 5.017693788450846,\n",
       " 5.644905512007202,\n",
       " 6.272117235563558}"
      ]
     },
     "execution_count": 240,
     "metadata": {},
     "output_type": "execute_result"
    }
   ],
   "source": [
    "diabetic.info()"
   ]
  },
  {
   "cell_type": "code",
   "execution_count": 243,
   "metadata": {},
   "outputs": [],
   "source": [
    "limitedColumns = diabetic[['discharge_disposition_id_6',\n",
    "'discharge_disposition_id_11',\n",
    "'discharge_disposition_id_13',\n",
    "'discharge_disposition_id_14',\n",
    "'discharge_disposition_id_22',\n",
    "'admission_type_id_2',\n",
    "'admission_type_id_3',\n",
    "'admission_type_id_5',\n",
    "'admission_type_id_6',\n",
    "'admission_source_id_4',\n",
    "'admission_source_id_6',\n",
    "'admission_source_id_7',\n",
    "'insulin_No',\n",
    "'insulin_Steady',\n",
    "'insulin_Up',\n",
    "'race_Caucasian',\n",
    "'gender_Male',\n",
    "'diabetesMed_Yes',\n",
    "'age',\n",
    "'time_in_hospital',\n",
    "'number_diagnoses', 'readmitted']]\n"
   ]
  },
  {
   "cell_type": "code",
   "execution_count": 237,
   "metadata": {},
   "outputs": [
    {
     "data": {
      "text/plain": [
       "{0.6272117235563558,\n",
       " 1.2544234471127116,\n",
       " 1.8816351706690673,\n",
       " 2.508846894225423,\n",
       " 3.136058617781779,\n",
       " 3.7632703413381345,\n",
       " 4.39048206489449,\n",
       " 5.017693788450846,\n",
       " 5.644905512007202,\n",
       " 6.272117235563558}"
      ]
     },
     "execution_count": 237,
     "metadata": {},
     "output_type": "execute_result"
    }
   ],
   "source": [
    "set(diabetic['age'])"
   ]
  },
  {
   "cell_type": "code",
   "execution_count": 338,
   "metadata": {},
   "outputs": [
    {
     "data": {
      "text/plain": [
       "LinearSVC(C=1.0, class_weight='balanced', dual=True, fit_intercept=True,\n",
       "     intercept_scaling=1, loss='squared_hinge', max_iter=10000,\n",
       "     multi_class='ovr', penalty='l2',\n",
       "     random_state=<mtrand.RandomState object at 0x1a2e5b3c60>, tol=0.0001,\n",
       "     verbose=0)"
      ]
     },
     "execution_count": 338,
     "metadata": {},
     "output_type": "execute_result"
    }
   ],
   "source": [
    "svc = LinearSVC(class_weight = 'balanced', # adjust weights inversely proportional to class frequencies in the data set\n",
    "                fit_intercept = True, #  If set to false, no intercept will be used in calculations\n",
    "                                       # (i.e. data is expected to be already centered).\n",
    "                max_iter = 10000, # default=1000\n",
    "                penalty = 'l2', # The ‘l1’ leads to coef_ vectors that are sparse.\n",
    "                dual = True,\n",
    "                random_state = rState)\n",
    "\n",
    "if 'readmitted' in limitedColumns:\n",
    "    y = limitedColumns['readmitted'].values # get the labels we want\n",
    "    del limitedColumns['readmitted'] # get rid of the class label\n",
    "    X = limitedColumns.values # use everything else to predict!\n",
    "\n",
    "rState = RandomState(seed = 4428120)\n",
    "\n",
    "X_train, X_test, y_train, y_test = train_test_split(\n",
    "    X, y, test_size = 0.1,\n",
    "    stratify = y, # split so population proportions are preserved in samples\n",
    "    random_state = rState # Random state is preferred for reproducability\n",
    ")\n",
    "\n",
    "svc.fit(X_train, y_train)"
   ]
  },
  {
   "cell_type": "code",
   "execution_count": 339,
   "metadata": {
    "scrolled": true
   },
   "outputs": [],
   "source": [
    "#calc_cumulative_gains(probabilit_col = svc.decision_function(X))\n",
    "\n",
    "lift = calc_cumulative_gains(\n",
    "    df = pd.DataFrame({'actual': y_test, 'predict': svc.predict(X_test), 'probability':svc.decision_function(X_test)}),\n",
    "    actual_col = 'actual',\n",
    "    predicted_col = 'predict',\n",
    "    probability_col ='probability')\n",
    "                      "
   ]
  },
  {
   "cell_type": "code",
   "execution_count": 342,
   "metadata": {},
   "outputs": [
    {
     "data": {
      "text/plain": [
       "[10, 12, 14, 16, 18, 20]"
      ]
     },
     "execution_count": 342,
     "metadata": {},
     "output_type": "execute_result"
    }
   ],
   "source": [
    "[int((label+1)*10) for label in [float(item.get_text()) for item in bar.get_xticklabels()]]"
   ]
  },
  {
   "cell_type": "code",
   "execution_count": 334,
   "metadata": {},
   "outputs": [
    {
     "data": {
      "text/html": [
       "<div>\n",
       "<style scoped>\n",
       "    .dataframe tbody tr th:only-of-type {\n",
       "        vertical-align: middle;\n",
       "    }\n",
       "\n",
       "    .dataframe tbody tr th {\n",
       "        vertical-align: top;\n",
       "    }\n",
       "\n",
       "    .dataframe thead th {\n",
       "        text-align: right;\n",
       "    }\n",
       "</style>\n",
       "<table border=\"1\" class=\"dataframe\">\n",
       "  <thead>\n",
       "    <tr style=\"text-align: right;\">\n",
       "      <th></th>\n",
       "      <th>NumCases</th>\n",
       "      <th>NumCorrectPredictions</th>\n",
       "      <th>RunningCorrect</th>\n",
       "      <th>PercentCorrect</th>\n",
       "      <th>CumulativeCorrectBestCase</th>\n",
       "      <th>PercentCorrectBestCase</th>\n",
       "      <th>AvgCase</th>\n",
       "      <th>CumulativeAvgCase</th>\n",
       "      <th>PercentAvgCase</th>\n",
       "      <th>NormalisedPercentAvg</th>\n",
       "      <th>NormalisedPercentWithModel</th>\n",
       "    </tr>\n",
       "  </thead>\n",
       "  <tbody>\n",
       "    <tr>\n",
       "      <th>0</th>\n",
       "      <td>0</td>\n",
       "      <td>0</td>\n",
       "      <td>0</td>\n",
       "      <td>NaN</td>\n",
       "      <td>0</td>\n",
       "      <td>NaN</td>\n",
       "      <td>0.0</td>\n",
       "      <td>0.0</td>\n",
       "      <td>NaN</td>\n",
       "      <td>1</td>\n",
       "      <td>NaN</td>\n",
       "    </tr>\n",
       "    <tr>\n",
       "      <th>1</th>\n",
       "      <td>0</td>\n",
       "      <td>0</td>\n",
       "      <td>0</td>\n",
       "      <td>NaN</td>\n",
       "      <td>0</td>\n",
       "      <td>NaN</td>\n",
       "      <td>0.0</td>\n",
       "      <td>0.0</td>\n",
       "      <td>NaN</td>\n",
       "      <td>1</td>\n",
       "      <td>NaN</td>\n",
       "    </tr>\n",
       "    <tr>\n",
       "      <th>2</th>\n",
       "      <td>0</td>\n",
       "      <td>0</td>\n",
       "      <td>0</td>\n",
       "      <td>NaN</td>\n",
       "      <td>0</td>\n",
       "      <td>NaN</td>\n",
       "      <td>0.0</td>\n",
       "      <td>0.0</td>\n",
       "      <td>NaN</td>\n",
       "      <td>1</td>\n",
       "      <td>NaN</td>\n",
       "    </tr>\n",
       "    <tr>\n",
       "      <th>3</th>\n",
       "      <td>0</td>\n",
       "      <td>0</td>\n",
       "      <td>0</td>\n",
       "      <td>NaN</td>\n",
       "      <td>0</td>\n",
       "      <td>NaN</td>\n",
       "      <td>0.0</td>\n",
       "      <td>0.0</td>\n",
       "      <td>NaN</td>\n",
       "      <td>1</td>\n",
       "      <td>NaN</td>\n",
       "    </tr>\n",
       "    <tr>\n",
       "      <th>4</th>\n",
       "      <td>0</td>\n",
       "      <td>0</td>\n",
       "      <td>0</td>\n",
       "      <td>NaN</td>\n",
       "      <td>0</td>\n",
       "      <td>NaN</td>\n",
       "      <td>0.0</td>\n",
       "      <td>0.0</td>\n",
       "      <td>NaN</td>\n",
       "      <td>1</td>\n",
       "      <td>NaN</td>\n",
       "    </tr>\n",
       "    <tr>\n",
       "      <th>5</th>\n",
       "      <td>0</td>\n",
       "      <td>0</td>\n",
       "      <td>0</td>\n",
       "      <td>NaN</td>\n",
       "      <td>0</td>\n",
       "      <td>NaN</td>\n",
       "      <td>0.0</td>\n",
       "      <td>0.0</td>\n",
       "      <td>NaN</td>\n",
       "      <td>1</td>\n",
       "      <td>NaN</td>\n",
       "    </tr>\n",
       "    <tr>\n",
       "      <th>6</th>\n",
       "      <td>0</td>\n",
       "      <td>0</td>\n",
       "      <td>0</td>\n",
       "      <td>NaN</td>\n",
       "      <td>0</td>\n",
       "      <td>NaN</td>\n",
       "      <td>0.0</td>\n",
       "      <td>0.0</td>\n",
       "      <td>NaN</td>\n",
       "      <td>1</td>\n",
       "      <td>NaN</td>\n",
       "    </tr>\n",
       "    <tr>\n",
       "      <th>7</th>\n",
       "      <td>0</td>\n",
       "      <td>0</td>\n",
       "      <td>0</td>\n",
       "      <td>NaN</td>\n",
       "      <td>0</td>\n",
       "      <td>NaN</td>\n",
       "      <td>0.0</td>\n",
       "      <td>0.0</td>\n",
       "      <td>NaN</td>\n",
       "      <td>1</td>\n",
       "      <td>NaN</td>\n",
       "    </tr>\n",
       "    <tr>\n",
       "      <th>8</th>\n",
       "      <td>0</td>\n",
       "      <td>0</td>\n",
       "      <td>0</td>\n",
       "      <td>NaN</td>\n",
       "      <td>0</td>\n",
       "      <td>NaN</td>\n",
       "      <td>0.0</td>\n",
       "      <td>0.0</td>\n",
       "      <td>NaN</td>\n",
       "      <td>1</td>\n",
       "      <td>NaN</td>\n",
       "    </tr>\n",
       "    <tr>\n",
       "      <th>9</th>\n",
       "      <td>0</td>\n",
       "      <td>0</td>\n",
       "      <td>0</td>\n",
       "      <td>NaN</td>\n",
       "      <td>0</td>\n",
       "      <td>NaN</td>\n",
       "      <td>0.0</td>\n",
       "      <td>0.0</td>\n",
       "      <td>NaN</td>\n",
       "      <td>1</td>\n",
       "      <td>NaN</td>\n",
       "    </tr>\n",
       "  </tbody>\n",
       "</table>\n",
       "</div>"
      ],
      "text/plain": [
       "   NumCases  NumCorrectPredictions  RunningCorrect  PercentCorrect  \\\n",
       "0         0                      0               0             NaN   \n",
       "1         0                      0               0             NaN   \n",
       "2         0                      0               0             NaN   \n",
       "3         0                      0               0             NaN   \n",
       "4         0                      0               0             NaN   \n",
       "5         0                      0               0             NaN   \n",
       "6         0                      0               0             NaN   \n",
       "7         0                      0               0             NaN   \n",
       "8         0                      0               0             NaN   \n",
       "9         0                      0               0             NaN   \n",
       "\n",
       "   CumulativeCorrectBestCase  PercentCorrectBestCase  AvgCase  \\\n",
       "0                          0                     NaN      0.0   \n",
       "1                          0                     NaN      0.0   \n",
       "2                          0                     NaN      0.0   \n",
       "3                          0                     NaN      0.0   \n",
       "4                          0                     NaN      0.0   \n",
       "5                          0                     NaN      0.0   \n",
       "6                          0                     NaN      0.0   \n",
       "7                          0                     NaN      0.0   \n",
       "8                          0                     NaN      0.0   \n",
       "9                          0                     NaN      0.0   \n",
       "\n",
       "   CumulativeAvgCase  PercentAvgCase  NormalisedPercentAvg  \\\n",
       "0                0.0             NaN                     1   \n",
       "1                0.0             NaN                     1   \n",
       "2                0.0             NaN                     1   \n",
       "3                0.0             NaN                     1   \n",
       "4                0.0             NaN                     1   \n",
       "5                0.0             NaN                     1   \n",
       "6                0.0             NaN                     1   \n",
       "7                0.0             NaN                     1   \n",
       "8                0.0             NaN                     1   \n",
       "9                0.0             NaN                     1   \n",
       "\n",
       "   NormalisedPercentWithModel  \n",
       "0                         NaN  \n",
       "1                         NaN  \n",
       "2                         NaN  \n",
       "3                         NaN  \n",
       "4                         NaN  \n",
       "5                         NaN  \n",
       "6                         NaN  \n",
       "7                         NaN  \n",
       "8                         NaN  \n",
       "9                         NaN  "
      ]
     },
     "execution_count": 334,
     "metadata": {},
     "output_type": "execute_result"
    }
   ],
   "source": [
    "lift"
   ]
  },
  {
   "cell_type": "code",
   "execution_count": 344,
   "metadata": {},
   "outputs": [
    {
     "name": "stdout",
     "output_type": "stream",
     "text": [
      "0.0\n",
      "0.2\n",
      "0.4\n",
      "0.6\n",
      "0.8\n",
      "1.0\n",
      "\n",
      "\n",
      "\n",
      "\n"
     ]
    },
    {
     "name": "stderr",
     "output_type": "stream",
     "text": [
      "/anaconda/lib/python3.6/site-packages/matplotlib/legend.py:1270: UserWarning: You have mixed positional and keyword arguments, some input may be discarded.\n",
      "  warnings.warn(\"You have mixed positional and keyword arguments, some \"\n",
      "/anaconda/lib/python3.6/site-packages/matplotlib/figure.py:445: UserWarning: Matplotlib is currently using module://ipykernel.pylab.backend_inline, which is a non-GUI backend, so cannot show the figure.\n",
      "  % get_backend())\n"
     ]
    },
    {
     "data": {
      "image/png": "[encoded data removed]",
      "text/plain": [
       "<Figure size 432x288 with 1 Axes>"
      ]
     },
     "metadata": {},
     "output_type": "display_data"
    }
   ],
   "source": [
    "plot_cumulative_gains(lift)"
   ]
  },
  {
   "cell_type": "code",
   "execution_count": 346,
   "metadata": {},
   "outputs": [
    {
     "data": {
      "image/png": "[encoded data removed]",
      "text/plain": [
       "<Figure size 432x288 with 1 Axes>"
      ]
     },
     "metadata": {},
     "output_type": "display_data"
    }
   ],
   "source": [
    "plot_lift_chart(lift)"
   ]
  },
  {
   "cell_type": "code",
   "execution_count": 345,
   "metadata": {},
   "outputs": [],
   "source": [
    "def plot_lift_chart(lift: pd.DataFrame):\n",
    "    plt.figure()\n",
    "    plt.plot(lift['NormalisedPercentAvg'], 'r-', label='Normalised \\'response rate\\' with no model')\n",
    "    plt.plot(lift['NormalisedPercentWithModel'], 'g-', label='Normalised \\'response rate\\' with using model')\n",
    "    plt.legend()\n",
    "    plt.show()"
   ]
  },
  {
   "cell_type": "code",
   "execution_count": 250,
   "metadata": {},
   "outputs": [],
   "source": [
    "def calc_cumulative_gains(df: pd.DataFrame, actual_col: str, predicted_col:str, probability_col:str):\n",
    "    #https://stackoverflow.com/questions/42699243/how-to-build-a-lift-chart-a-k-a-gains-chart-in-python\n",
    "    df.sort_values(by=probability_col, ascending=False, inplace=True)\n",
    "\n",
    "    subset = df[df[predicted_col] == True]\n",
    "\n",
    "    rows = []\n",
    "    for group in np.array_split(subset, 10):\n",
    "        score = sklearn.metrics.accuracy_score(group[actual_col].tolist(),\n",
    "                                                   group[predicted_col].tolist(),\n",
    "                                                   normalize=False)\n",
    "\n",
    "        rows.append({'NumCases': len(group), 'NumCorrectPredictions': score})\n",
    "\n",
    "    lift = pd.DataFrame(rows)\n",
    "\n",
    "    #Cumulative Gains Calculation\n",
    "    lift['RunningCorrect'] = lift['NumCorrectPredictions'].cumsum()\n",
    "    lift['PercentCorrect'] = lift.apply(\n",
    "        lambda x: (100 / lift['NumCorrectPredictions'].sum()) * x['RunningCorrect'], axis=1)\n",
    "    lift['CumulativeCorrectBestCase'] = lift['NumCases'].cumsum()\n",
    "    lift['PercentCorrectBestCase'] = lift['CumulativeCorrectBestCase'].apply(\n",
    "        lambda x: 100 if (100 / lift['NumCorrectPredictions'].sum()) * x > 100 else (100 / lift[\n",
    "            'NumCorrectPredictions'].sum()) * x)\n",
    "    lift['AvgCase'] = lift['NumCorrectPredictions'].sum() / len(lift)\n",
    "    lift['CumulativeAvgCase'] = lift['AvgCase'].cumsum()\n",
    "    lift['PercentAvgCase'] = lift['CumulativeAvgCase'].apply(\n",
    "        lambda x: (100 / lift['NumCorrectPredictions'].sum()) * x)\n",
    "\n",
    "    #Lift Chart\n",
    "    lift['NormalisedPercentAvg'] = 1\n",
    "    lift['NormalisedPercentWithModel'] = lift['PercentCorrect'] / lift['PercentAvgCase']\n",
    "\n",
    "    return lift"
   ]
  },
  {
   "cell_type": "code",
   "execution_count": 343,
   "metadata": {},
   "outputs": [],
   "source": [
    "import matplotlib.pyplot as plt\n",
    "def plot_cumulative_gains(lift: pd.DataFrame):\n",
    "    fig, ax = plt.subplots()\n",
    "    fig.canvas.draw()\n",
    "\n",
    "    handles = []\n",
    "    handles.append(ax.plot(lift['PercentCorrect'], 'r-', label='Percent Correct Predictions'))\n",
    "    handles.append(ax.plot(lift['PercentCorrectBestCase'], 'g-', label='Best Case (for current model)'))\n",
    "    handles.append(ax.plot(lift['PercentAvgCase'], 'b-', label='Average Case (for current model)'))\n",
    "    ax.set_xlabel('Total Population (%)')\n",
    "    ax.set_ylabel('Number of Respondents (%)')\n",
    "\n",
    "    ax.set_xlim([0, 9])\n",
    "    ax.set_ylim([10, 100])\n",
    "    for label in ax.get_xticklabels():\n",
    "        print(label.get_text())\n",
    "    #print(item.get_text() for item in ax.get_xticklabels())\n",
    "    labels =  [10, 12, 14, 16, 18, 20]#[int((label+1)*10) for label in [float(item.get_text()) for item in ax.get_xticklabels()]]\n",
    "\n",
    "    ax.set_xticklabels(labels)\n",
    "\n",
    "    fig.legend(handles, labels=[h[0].get_label() for h in handles])\n",
    "    fig.show()"
   ]
  },
  {
   "cell_type": "markdown",
   "metadata": {},
   "source": [
    "# Train model"
   ]
  },
  {
   "cell_type": "code",
   "execution_count": 188,
   "metadata": {},
   "outputs": [
    {
     "name": "stdout",
     "output_type": "stream",
     "text": [
      "# Tuning hyper-parameters for accuracy\n",
      "\n",
      "Warnings: 0\n",
      "Took 3865.80 seconds\n",
      "Best parameters set found on development set:\n",
      "\n",
      "{'colsample_bylevel': 1.0, 'colsample_bytree': 0.5, 'gamma': 0.1, 'max_delta_step': 0, 'max_depth': 3, 'min_child_weight': 2, 'n_estimators': 50, 'n_jobs': 4, 'objective': 'binary:hinge', 'random_state': 4428120, 'reg_alpha': 0, 'silent': True, 'subsample': 0.3}\n",
      "\n",
      "Grid scores on development set:\n",
      "\n",
      "Detailed classification report:\n",
      "\n",
      "The model is trained on the full development set.\n",
      "The scores are computed on the full evaluation set.\n",
      "\n",
      "              precision    recall  f1-score   support\n",
      "\n",
      "           0       0.89      1.00      0.94     58883\n",
      "           1       0.00      0.00      0.00      7446\n",
      "\n",
      "   micro avg       0.89      0.89      0.89     66329\n",
      "   macro avg       0.44      0.50      0.47     66329\n",
      "weighted avg       0.79      0.89      0.83     66329\n",
      "\n",
      "\n",
      "# Tuning hyper-parameters for neg_median_absolute_error\n",
      "\n"
     ]
    },
    {
     "name": "stderr",
     "output_type": "stream",
     "text": [
      "/anaconda/lib/python3.6/site-packages/sklearn/metrics/classification.py:1143: UndefinedMetricWarning: Precision and F-score are ill-defined and being set to 0.0 in labels with no predicted samples.\n",
      "  'precision', 'predicted', average, warn_for)\n"
     ]
    },
    {
     "name": "stdout",
     "output_type": "stream",
     "text": [
      "Warnings: 0\n",
      "Took 2525.27 seconds\n",
      "Best parameters set found on development set:\n",
      "\n",
      "{'colsample_bylevel': 1.0, 'colsample_bytree': 1.0, 'gamma': 0.0, 'max_delta_step': 0, 'max_depth': 3, 'min_child_weight': 2, 'n_estimators': 50, 'n_jobs': 4, 'objective': 'binary:logistic', 'random_state': 4428120, 'reg_alpha': 0, 'silent': True, 'subsample': 0.1}\n",
      "\n",
      "Grid scores on development set:\n",
      "\n",
      "Detailed classification report:\n",
      "\n",
      "The model is trained on the full development set.\n",
      "The scores are computed on the full evaluation set.\n",
      "\n",
      "              precision    recall  f1-score   support\n",
      "\n",
      "           0       0.89      1.00      0.94     58883\n",
      "           1       0.00      0.00      0.00      7446\n",
      "\n",
      "   micro avg       0.89      0.89      0.89     66329\n",
      "   macro avg       0.44      0.50      0.47     66329\n",
      "weighted avg       0.79      0.89      0.83     66329\n",
      "\n",
      "\n",
      "# Tuning hyper-parameters for adjusted_rand_score\n",
      "\n"
     ]
    },
    {
     "name": "stderr",
     "output_type": "stream",
     "text": [
      "/anaconda/lib/python3.6/site-packages/sklearn/metrics/classification.py:1143: UndefinedMetricWarning: Precision and F-score are ill-defined and being set to 0.0 in labels with no predicted samples.\n",
      "  'precision', 'predicted', average, warn_for)\n"
     ]
    },
    {
     "name": "stdout",
     "output_type": "stream",
     "text": [
      "Warnings: 0\n",
      "Took 2596.50 seconds\n",
      "Best parameters set found on development set:\n",
      "\n",
      "{'colsample_bylevel': 1.0, 'colsample_bytree': 1.0, 'gamma': 0.8, 'max_delta_step': 0, 'max_depth': 3, 'min_child_weight': 2, 'n_estimators': 50, 'n_jobs': 4, 'objective': 'binary:hinge', 'random_state': 4428120, 'reg_alpha': 0.5, 'silent': True, 'subsample': 0.8}\n",
      "\n",
      "Grid scores on development set:\n",
      "\n",
      "Detailed classification report:\n",
      "\n",
      "The model is trained on the full development set.\n",
      "The scores are computed on the full evaluation set.\n",
      "\n",
      "              precision    recall  f1-score   support\n",
      "\n",
      "           0       0.89      1.00      0.94     58883\n",
      "           1       0.45      0.00      0.00      7446\n",
      "\n",
      "   micro avg       0.89      0.89      0.89     66329\n",
      "   macro avg       0.67      0.50      0.47     66329\n",
      "weighted avg       0.84      0.89      0.84     66329\n",
      "\n",
      "\n",
      "# Tuning hyper-parameters for f1\n",
      "\n",
      "Warnings: 0\n",
      "Took 2553.59 seconds\n",
      "Best parameters set found on development set:\n",
      "\n",
      "{'colsample_bylevel': 1.0, 'colsample_bytree': 1.0, 'gamma': 0.8, 'max_delta_step': 0, 'max_depth': 3, 'min_child_weight': 2, 'n_estimators': 50, 'n_jobs': 4, 'objective': 'binary:hinge', 'random_state': 4428120, 'reg_alpha': 0.5, 'silent': True, 'subsample': 0.8}\n",
      "\n",
      "Grid scores on development set:\n",
      "\n",
      "Detailed classification report:\n",
      "\n",
      "The model is trained on the full development set.\n",
      "The scores are computed on the full evaluation set.\n",
      "\n",
      "              precision    recall  f1-score   support\n",
      "\n",
      "           0       0.89      1.00      0.94     58883\n",
      "           1       0.45      0.00      0.00      7446\n",
      "\n",
      "   micro avg       0.89      0.89      0.89     66329\n",
      "   macro avg       0.67      0.50      0.47     66329\n",
      "weighted avg       0.84      0.89      0.84     66329\n",
      "\n",
      "\n",
      "# Tuning hyper-parameters for neg_mean_squared_error\n",
      "\n",
      "Warnings: 0\n",
      "Took 2535.97 seconds\n",
      "Best parameters set found on development set:\n",
      "\n",
      "{'colsample_bylevel': 1.0, 'colsample_bytree': 0.5, 'gamma': 0.1, 'max_delta_step': 0, 'max_depth': 3, 'min_child_weight': 2, 'n_estimators': 50, 'n_jobs': 4, 'objective': 'binary:hinge', 'random_state': 4428120, 'reg_alpha': 0, 'silent': True, 'subsample': 0.3}\n",
      "\n",
      "Grid scores on development set:\n",
      "\n",
      "Detailed classification report:\n",
      "\n",
      "The model is trained on the full development set.\n",
      "The scores are computed on the full evaluation set.\n",
      "\n",
      "              precision    recall  f1-score   support\n",
      "\n",
      "           0       0.89      1.00      0.94     58883\n",
      "           1       0.00      0.00      0.00      7446\n",
      "\n",
      "   micro avg       0.89      0.89      0.89     66329\n",
      "   macro avg       0.44      0.50      0.47     66329\n",
      "weighted avg       0.79      0.89      0.83     66329\n",
      "\n",
      "\n"
     ]
    },
    {
     "name": "stderr",
     "output_type": "stream",
     "text": [
      "/anaconda/lib/python3.6/site-packages/sklearn/metrics/classification.py:1143: UndefinedMetricWarning: Precision and F-score are ill-defined and being set to 0.0 in labels with no predicted samples.\n",
      "  'precision', 'predicted', average, warn_for)\n"
     ]
    }
   ],
   "source": [
    "from sklearn import datasets\n",
    "from sklearn.model_selection import train_test_split, GridSearchCV\n",
    "from sklearn.metrics import classification_report\n",
    "from sklearn.linear_model import LogisticRegression\n",
    "from sklearn.svm import SVC\n",
    "from numpy.random import RandomState\n",
    "import warnings\n",
    "import xgboost as xgb\n",
    "from xgboost import XGBClassifier\n",
    "import time\n",
    "\n",
    "if 'readmitted' in diabetic:\n",
    "    y = diabetic['readmitted'].values # get the labels we want\n",
    "    del diabetic['readmitted'] # get rid of the class label\n",
    "    X = diabetic.values # use everything else to predict!\n",
    "\n",
    "rState = RandomState(seed = 4428120)\n",
    "\n",
    "X_train, X_test, y_train, y_test = train_test_split(\n",
    "    X, y, test_size = 0.66667,\n",
    "    stratify = y, # split so population proportions are preserved in samples\n",
    "    random_state = rState # Random state is preferred for reproducability\n",
    ")\n",
    "\n",
    "assert np.any(np.isnan(X)) == False\n",
    "assert np.all(np.isfinite(X)) == True\n",
    "assert np.any(np.isnan(y)) == False\n",
    "assert np.all(np.isfinite(y)) == True\n",
    "assert np.any(np.isnan(X_train)) == False\n",
    "assert np.any(np.isnan(y_train)) == False\n",
    "\n",
    "# Set the parameters by cross-validation\n",
    "# Imballanced data can affect the training of XGBoost model, and there are two ways to improve it.\n",
    "#\n",
    "# If you care only about the overall performance metric (AUC) of your prediction\n",
    "## Balance the positive and negative weights via scale_pos_weight\n",
    "## Use AUC for evaluation\n",
    "# If you care about predicting the right probabilityIn such a case, you cannot re-balance the dataset\n",
    "## Set parameter max_delta_step to a finite number (say 1) to help convergence\n",
    "# https://www.saedsayad.com/model_evaluation_c.htm\n",
    "# Set parameter max_delta_step to a finite number (say 1) to help convergence\n",
    "tuned_parameters = [{'max_depth' : [3],\n",
    "                    'min_child_weight' : [2],\n",
    "                    'n_estimators' : [50],\n",
    "                    'silent' : [True],\n",
    "                    'objective' : \n",
    "                         ['binary:logistic', # logistic regression for binary classification, output probability\n",
    "                          'binary:logitraw', # logistic regression for binary classification, output score before logistic transformation\n",
    "                          'binary:hinge'],  # hinge loss for binary classification. makes predictions of 0 or 1, rather than producing probabilities.\n",
    "                    'gamma': [x/10 for x in range(10)],\n",
    "                    'max_delta_step': [0, 1], # Maximum delta step we allow each leaf output to be.\n",
    "                                              # If the value is set to 0, it means there is no constraint.\n",
    "                                              # If it is set to a positive value, it can help making the update step more conservative. \n",
    "                    'subsample':  [ 0.1, 0.2, 0.3, 0.4, 0.5, 0.6, 0.7, 0.8, 0.9],\n",
    "                    'colsample_bytree' : [1.0, 0.5],\n",
    "                    'colsample_bylevel' : [1.0, 0.5],\n",
    "                    'reg_alpha' : [0,0.5,1],\n",
    "                    'n_jobs' : [4],\n",
    "                    'random_state' : [4428120]\n",
    "                     # booster='gbtree' default\n",
    "                    }]\n",
    "\n",
    "scores = ['accuracy', 'neg_median_absolute_error', 'adjusted_rand_score', 'f1', 'neg_mean_squared_error']\n",
    "        \n",
    "    #['accuracy', 'adjusted_rand_score', 'average_precision', 'f1',\n",
    "    #      'f1_macro', 'f1_micro', 'f1_samples', 'f1_weighted', 'neg_log_loss',\n",
    "    #      'neg_mean_absolute_error', 'neg_mean_squared_error',\n",
    "    #      'precision', 'precision_macro', 'precision_micro', 'precision_samples',\n",
    "    #      'precision_weighted', 'r2', 'recall', 'recall_macro', 'recall_micro',\n",
    "    #      'recall_samples', 'recall_weighted', 'roc_auc']\n",
    "paramsDict = {}\n",
    "for score in scores:\n",
    "    print(\"# Tuning hyper-parameters for %s\" % score)\n",
    "    print()\n",
    "\n",
    "    # Run classifier on GPUs:\n",
    "    # https://xgboost.readthedocs.io/en/latest/python/python_api.html#module-xgboost.sklearn\n",
    "    clf = GridSearchCV(XGBClassifier(),\n",
    "                       tuned_parameters,\n",
    "                       cv = 2, # Must be >= 2\n",
    "                       scoring=score,\n",
    "                       n_jobs=4 # Use all available processor cores\n",
    "                      )\n",
    "    \n",
    "    start_time = time.time()\n",
    "    with warnings.catch_warnings(record = True) as warn:\n",
    "        clf.fit(X_train, y_train)\n",
    "        print(\"Warnings:\", len(warn))\n",
    "    print(\"Took %.2f seconds\" % (time.time() - start_time))\n",
    "    print(\"Best parameters set found on development set:\")\n",
    "    print()\n",
    "    print(clf.best_params_)\n",
    "    print()\n",
    "    print(\"Grid scores on development set:\")\n",
    "    print()\n",
    "    means = clf.cv_results_['mean_test_score']\n",
    "    stds = clf.cv_results_['std_test_score']\n",
    "    #for mean, std, params in zip(means, stds, clf.cv_results_['params']):\n",
    "    #    print(\"%0.3f (+/-%0.03f) for %r\"\n",
    "    #          % (mean, std * 2, params))\n",
    "    #print()\n",
    "    paramsDict[score] = clf.best_params_\n",
    "    print(\"Detailed classification report:\")\n",
    "    print()\n",
    "    print(\"The model is trained on the full development set.\")\n",
    "    print(\"The scores are computed on the full evaluation set.\")\n",
    "    print()\n",
    "    y_true, y_pred = y_test, clf.predict(X_test)\n",
    "    print(classification_report(y_true, y_pred))\n",
    "    print()"
   ]
  },
  {
   "cell_type": "code",
   "execution_count": 195,
   "metadata": {},
   "outputs": [
    {
     "data": {
      "text/plain": [
       "33164"
      ]
     },
     "execution_count": 195,
     "metadata": {},
     "output_type": "execute_result"
    }
   ],
   "source": [
    "len(y_train)"
   ]
  },
  {
   "cell_type": "markdown",
   "metadata": {},
   "source": [
    "\n",
    "# Recursive feature elimination with cross-validation\n",
    "\n",
    "\n",
    "Recursive feature elimination with automatic tuning of the\n",
    "number of features selected with cross-validation.\n",
    "\n"
   ]
  },
  {
   "cell_type": "markdown",
   "metadata": {},
   "source": [
    "Select params"
   ]
  },
  {
   "cell_type": "code",
   "execution_count": 96,
   "metadata": {},
   "outputs": [
    {
     "name": "stdout",
     "output_type": "stream",
     "text": [
      "Param              Value\n",
      "-----------------  ---------------\n",
      "colsample_bylevel  1.0\n",
      "colsample_bytree   1.0\n",
      "gamma              0.0\n",
      "max_delta_step     0\n",
      "max_depth          3\n",
      "min_child_weight   2\n",
      "n_estimators       50\n",
      "n_jobs             -1\n",
      "objective          binary:logistic\n",
      "random_state       4428120\n",
      "reg_alpha          0\n",
      "silent             True\n",
      "subsample          0.1\n"
     ]
    }
   ],
   "source": [
    "print(tabulate(paramsDict['neg_median_absolute_error'].items(), headers = ['Param', 'Value']))"
   ]
  },
  {
   "cell_type": "code",
   "execution_count": 196,
   "metadata": {},
   "outputs": [
    {
     "name": "stdout",
     "output_type": "stream",
     "text": [
      "Fitting estimator with 60 features.\n",
      "Fitting estimator with 59 features.\n",
      "Fitting estimator with 58 features.\n",
      "Fitting estimator with 57 features.\n",
      "Fitting estimator with 56 features.\n",
      "Fitting estimator with 55 features.\n",
      "Fitting estimator with 54 features.\n",
      "Fitting estimator with 53 features.\n",
      "Fitting estimator with 52 features.\n",
      "Fitting estimator with 51 features.\n",
      "Fitting estimator with 50 features.\n",
      "Fitting estimator with 49 features.\n",
      "Fitting estimator with 48 features.\n",
      "Fitting estimator with 47 features.\n",
      "Fitting estimator with 46 features.\n",
      "Fitting estimator with 45 features.\n",
      "Fitting estimator with 44 features.\n",
      "Fitting estimator with 43 features.\n",
      "Fitting estimator with 42 features.\n",
      "Fitting estimator with 41 features.\n",
      "Fitting estimator with 40 features.\n",
      "Fitting estimator with 39 features.\n",
      "Fitting estimator with 38 features.\n",
      "Fitting estimator with 37 features.\n",
      "Fitting estimator with 36 features.\n",
      "Fitting estimator with 35 features.\n",
      "Fitting estimator with 34 features.\n",
      "Fitting estimator with 33 features.\n",
      "Fitting estimator with 32 features.\n",
      "Fitting estimator with 31 features.\n",
      "Fitting estimator with 30 features.\n",
      "Fitting estimator with 29 features.\n",
      "Fitting estimator with 28 features.\n",
      "Fitting estimator with 27 features.\n",
      "Fitting estimator with 26 features.\n",
      "Fitting estimator with 25 features.\n",
      "Fitting estimator with 24 features.\n",
      "Fitting estimator with 23 features.\n",
      "Fitting estimator with 22 features.\n",
      "Fitting estimator with 21 features.\n",
      "Fitting estimator with 20 features.\n",
      "Fitting estimator with 19 features.\n",
      "Fitting estimator with 18 features.\n",
      "Fitting estimator with 17 features.\n",
      "Fitting estimator with 16 features.\n",
      "Fitting estimator with 15 features.\n",
      "Fitting estimator with 14 features.\n",
      "Fitting estimator with 13 features.\n",
      "Fitting estimator with 12 features.\n",
      "Fitting estimator with 11 features.\n",
      "Fitting estimator with 10 features.\n",
      "Fitting estimator with 9 features.\n",
      "Fitting estimator with 8 features.\n",
      "Fitting estimator with 7 features.\n",
      "Fitting estimator with 6 features.\n",
      "Fitting estimator with 5 features.\n",
      "Fitting estimator with 60 features.\n",
      "Fitting estimator with 59 features.\n",
      "Fitting estimator with 58 features.\n",
      "Fitting estimator with 57 features.\n",
      "Fitting estimator with 56 features.\n",
      "Fitting estimator with 55 features.\n",
      "Fitting estimator with 54 features.\n",
      "Fitting estimator with 53 features.\n",
      "Fitting estimator with 52 features.\n",
      "Fitting estimator with 51 features.\n",
      "Fitting estimator with 50 features.\n",
      "Fitting estimator with 49 features.\n",
      "Fitting estimator with 48 features.\n",
      "Fitting estimator with 47 features.\n",
      "Fitting estimator with 46 features.\n",
      "Fitting estimator with 45 features.\n",
      "Fitting estimator with 44 features.\n",
      "Fitting estimator with 43 features.\n",
      "Fitting estimator with 42 features.\n",
      "Fitting estimator with 41 features.\n",
      "Warnings: 0\n",
      "Optimal number of features: 4\n",
      "Optimal number of features acc: 40\n"
     ]
    },
    {
     "data": {
      "image/png": "[encoded data removed]",
      "text/plain": [
       "<Figure size 432x288 with 1 Axes>"
      ]
     },
     "metadata": {},
     "output_type": "display_data"
    },
    {
     "data": {
      "image/png": "[encoded data removed]",
      "text/plain": [
       "<Figure size 432x288 with 1 Axes>"
      ]
     },
     "metadata": {},
     "output_type": "display_data"
    },
    {
     "ename": "IndexError",
     "evalue": "boolean index did not match indexed array along dimension 0; dimension is 17 but corresponding boolean dimension is 60",
     "output_type": "error",
     "traceback": [
      "\u001b[0;31m---------------------------------------------------------------------------\u001b[0m",
      "\u001b[0;31mIndexError\u001b[0m                                Traceback (most recent call last)",
      "\u001b[0;32m<ipython-input-196-2cae79aae1f3>\u001b[0m in \u001b[0;36m<module>\u001b[0;34m\u001b[0m\n\u001b[1;32m     82\u001b[0m \u001b[0mplt\u001b[0m\u001b[0;34m.\u001b[0m\u001b[0mshow\u001b[0m\u001b[0;34m(\u001b[0m\u001b[0;34m)\u001b[0m\u001b[0;34m\u001b[0m\u001b[0;34m\u001b[0m\u001b[0m\n\u001b[1;32m     83\u001b[0m \u001b[0;34m\u001b[0m\u001b[0m\n\u001b[0;32m---> 84\u001b[0;31m \u001b[0mdataLabels\u001b[0m \u001b[0;34m=\u001b[0m \u001b[0mdataLabels\u001b[0m\u001b[0;34m[\u001b[0m\u001b[0mrfecv\u001b[0m\u001b[0;34m.\u001b[0m\u001b[0msupport_\u001b[0m\u001b[0;34m]\u001b[0m\u001b[0;34m\u001b[0m\u001b[0;34m\u001b[0m\u001b[0m\n\u001b[0m\u001b[1;32m     85\u001b[0m \u001b[0mX\u001b[0m \u001b[0;34m=\u001b[0m \u001b[0mrfecv\u001b[0m\u001b[0;34m.\u001b[0m\u001b[0mtransform\u001b[0m\u001b[0;34m(\u001b[0m\u001b[0mX\u001b[0m\u001b[0;34m)\u001b[0m\u001b[0;34m\u001b[0m\u001b[0;34m\u001b[0m\u001b[0m\n\u001b[1;32m     86\u001b[0m \u001b[0mprint\u001b[0m\u001b[0;34m(\u001b[0m\u001b[0mtabulate\u001b[0m\u001b[0;34m(\u001b[0m\u001b[0;34m{\u001b[0m\u001b[0;34m\"Remaining Features\"\u001b[0m\u001b[0;34m:\u001b[0m \u001b[0mdataLabels\u001b[0m\u001b[0;34m}\u001b[0m\u001b[0;34m,\u001b[0m \u001b[0mheaders\u001b[0m \u001b[0;34m=\u001b[0m \u001b[0;34m'keys'\u001b[0m\u001b[0;34m)\u001b[0m\u001b[0;34m)\u001b[0m\u001b[0;34m\u001b[0m\u001b[0;34m\u001b[0m\u001b[0m\n",
      "\u001b[0;32m/anaconda/lib/python3.6/site-packages/pandas/core/indexes/base.py\u001b[0m in \u001b[0;36m__getitem__\u001b[0;34m(self, key)\u001b[0m\n\u001b[1;32m   3966\u001b[0m \u001b[0;34m\u001b[0m\u001b[0m\n\u001b[1;32m   3967\u001b[0m         \u001b[0mkey\u001b[0m \u001b[0;34m=\u001b[0m \u001b[0mcom\u001b[0m\u001b[0;34m.\u001b[0m\u001b[0mvalues_from_object\u001b[0m\u001b[0;34m(\u001b[0m\u001b[0mkey\u001b[0m\u001b[0;34m)\u001b[0m\u001b[0;34m\u001b[0m\u001b[0;34m\u001b[0m\u001b[0m\n\u001b[0;32m-> 3968\u001b[0;31m         \u001b[0mresult\u001b[0m \u001b[0;34m=\u001b[0m \u001b[0mgetitem\u001b[0m\u001b[0;34m(\u001b[0m\u001b[0mkey\u001b[0m\u001b[0;34m)\u001b[0m\u001b[0;34m\u001b[0m\u001b[0;34m\u001b[0m\u001b[0m\n\u001b[0m\u001b[1;32m   3969\u001b[0m         \u001b[0;32mif\u001b[0m \u001b[0;32mnot\u001b[0m \u001b[0mis_scalar\u001b[0m\u001b[0;34m(\u001b[0m\u001b[0mresult\u001b[0m\u001b[0;34m)\u001b[0m\u001b[0;34m:\u001b[0m\u001b[0;34m\u001b[0m\u001b[0;34m\u001b[0m\u001b[0m\n\u001b[1;32m   3970\u001b[0m             \u001b[0;32mreturn\u001b[0m \u001b[0mpromote\u001b[0m\u001b[0;34m(\u001b[0m\u001b[0mresult\u001b[0m\u001b[0;34m)\u001b[0m\u001b[0;34m\u001b[0m\u001b[0;34m\u001b[0m\u001b[0m\n",
      "\u001b[0;31mIndexError\u001b[0m: boolean index did not match indexed array along dimension 0; dimension is 17 but corresponding boolean dimension is 60"
     ]
    }
   ],
   "source": [
    "import matplotlib.pyplot as plt\n",
    "import warnings\n",
    "from sklearn.svm import LinearSVC\n",
    "from sklearn.model_selection import StratifiedKFold, ShuffleSplit\n",
    "from sklearn.feature_selection import RFECV\n",
    "from sklearn.datasets import make_classification\n",
    "from sklearn.linear_model import LogisticRegression\n",
    "from numpy.random import RandomState\n",
    "\n",
    "if 'readmitted' in diabetic:\n",
    "    y = diabetic['readmitted'].values # get the labels we want\n",
    "    del diabetic['readmitted'] # get rid of the class label\n",
    "    X = diabetic.values # use everything else to predict!\n",
    "    dataLabels = diabetic.columns\n",
    "\n",
    "# Similar to SVC with parameter kernel=’linear’, but implemented in terms of liblinear\n",
    "# rather than libsvm, so it has more flexibility in the choice of penalties and loss\n",
    "# functions and should scale better to large numbers of samples.\n",
    "svc = LinearSVC(class_weight = 'balanced', # adjust weights inversely proportional to class frequencies in the data set\n",
    "                fit_intercept = False, #  If set to false, no intercept will be used in calculations\n",
    "                                       # (i.e. data is expected to be already centered).\n",
    "                max_iter = 11, # default=1000\n",
    "                penalty = 'l2', # The ‘l1’ leads to coef_ vectors that are sparse.\n",
    "                dual = False,\n",
    "                random_state = rState)\n",
    "\n",
    "# The “saga” solver is a variant of “sag” that also supports the non-smooth penalty=”l1” option.\n",
    "# This is therefore the solver of choice for sparse multinomial logistic regression.\n",
    "# A logistic regression with L1 penalty yields sparse models, and can thus be used to perform feature selection.\n",
    "# https://scikit-learn.org/stable/modules/linear_model.html#logistic-regression\n",
    "lr_clf = LogisticRegression(penalty      = 'l1',\n",
    "                            C            = 100,\n",
    "                            class_weight = 'balanced', # “balanced” automatically adjust weights inversely proportional to class frequencies\n",
    "                            solver       = 'saga',\n",
    "                            multi_class  = 'ovr', # ’ovr’: a binary problem is fit for each label\n",
    "                            max_iter     = 500 # default 100\n",
    "                           )\n",
    "\n",
    "\n",
    "xgb = XGBClassifier().set_params(**paramsDict['f1'])\n",
    "\n",
    "num_cv_iterations = 5\n",
    "cv_object         = ShuffleSplit(n_splits = num_cv_iterations,\n",
    "                                 test_size = 0.2,\n",
    "                                 random_state = rState)\n",
    "\n",
    "rfecv = RFECV(estimator = xgb,\n",
    "              step = 1,\n",
    "              cv = 5, # number of folds for a KFold CV.\n",
    "              scoring='balanced_accuracy', # balanced_accuracy is to deal with imbalanced datasets. \n",
    "                                           # It is defined as the average of recall obtained on each class.\n",
    "              n_jobs = -1, # Use all available processor cores\n",
    "              verbose = 2)\n",
    "\n",
    "rfecv_acc = RFECV(estimator = xgb,\n",
    "              step = 1,\n",
    "              cv = 5, # number of folds for a KFold CV.\n",
    "              scoring='accuracy', # balanced_accuracy is to deal with imbalanced datasets. \n",
    "                                           # It is defined as the average of recall obtained on each class.\n",
    "              n_jobs = -1, # Use all available processor cores\n",
    "              verbose = 2)\n",
    "\n",
    "# Catch all the non convergence warnings.\n",
    "with warnings.catch_warnings(record = True) as warn:\n",
    "    rfecv.fit(X, y)\n",
    "    rfecv_acc.fit(X, y)\n",
    "    print(\"Warnings:\", len(warn))\n",
    "\n",
    "print(\"Optimal number of features: %d\" % rfecv.n_features_)\n",
    "print(\"Optimal number of features acc: %d\" % rfecv_acc.n_features_)\n",
    "\n",
    "# Plot number of features VS. cross-validation scores\n",
    "plt.figure()\n",
    "plt.xlabel(\"Number of features selected\")\n",
    "plt.ylabel(\"Cross validation score\")\n",
    "plt.plot(range(1, len(rfecv.grid_scores_) * rfecv.get_params()['step'] + 1, rfecv.get_params()['step']),\n",
    "         rfecv.grid_scores_)\n",
    "plt.show()\n",
    "\n",
    "plt.plot(range(1, len(rfecv_acc.grid_scores_) * rfecv_acc.get_params()['step'] + 1, rfecv_acc.get_params()['step']),\n",
    "         rfecv_acc.grid_scores_)\n",
    "plt.show()\n",
    "\n",
    "dataLabels = dataLabels[rfecv.support_]\n",
    "\n",
    "print(tabulate({\"Remaining Features\": dataLabels}, headers = 'keys'))"
   ]
  },
  {
   "cell_type": "code",
   "execution_count": 80,
   "metadata": {},
   "outputs": [
    {
     "name": "stdout",
     "output_type": "stream",
     "text": [
      "Remaining Features\n",
      "---------------------------\n",
      "discharge_disposition_id_6\n",
      "discharge_disposition_id_11\n",
      "discharge_disposition_id_13\n",
      "discharge_disposition_id_14\n",
      "discharge_disposition_id_22\n",
      "admission_type_id_2\n",
      "admission_type_id_3\n",
      "admission_type_id_5\n",
      "admission_type_id_6\n",
      "admission_source_id_4\n",
      "admission_source_id_6\n",
      "admission_source_id_7\n",
      "insulin_No\n",
      "insulin_Steady\n",
      "insulin_Up\n",
      "race_Caucasian\n",
      "gender_Male\n",
      "diabetesMed_Yes\n",
      "age\n",
      "time_in_hospital\n",
      "number_diagnoses\n"
     ]
    }
   ],
   "source": [
    "\n",
    "X = rfecv.transform(X)\n",
    "print(tabulate({\"Remaining Features\": dataLabels}, headers = 'keys'))"
   ]
  },
  {
   "cell_type": "code",
   "execution_count": 99,
   "metadata": {
    "scrolled": true
   },
   "outputs": [
    {
     "name": "stdout",
     "output_type": "stream",
     "text": [
      "              precision    recall  f1-score   support\n",
      "\n",
      "           0       0.60      0.63      0.62     26535\n",
      "           1       0.55      0.52      0.54     23212\n",
      "\n",
      "   micro avg       0.58      0.58      0.58     49747\n",
      "   macro avg       0.58      0.58      0.58     49747\n",
      "weighted avg       0.58      0.58      0.58     49747\n",
      "\n"
     ]
    }
   ],
   "source": [
    "\n",
    "X_train, X_test, y_train, y_test = train_test_split(\n",
    "    X, y, test_size = 0.5, random_state = rState)\n",
    "\n",
    "xgb.fit(X_train, y_train)\n",
    "\n",
    "y_true, y_pred = y_test, xgb.predict(X_test)\n",
    "print(classification_report(y_true, y_pred))\n"
   ]
  },
  {
   "cell_type": "code",
   "execution_count": 208,
   "metadata": {},
   "outputs": [
    {
     "name": "stdout",
     "output_type": "stream",
     "text": [
      "              precision    recall  f1-score   support\n",
      "\n",
      "           0       0.90      0.64      0.75     58883\n",
      "           1       0.14      0.46      0.22      7446\n",
      "\n",
      "   micro avg       0.62      0.62      0.62     66329\n",
      "   macro avg       0.52      0.55      0.48     66329\n",
      "weighted avg       0.82      0.62      0.69     66329\n",
      "\n"
     ]
    }
   ],
   "source": [
    "lr_clf.fit(X_train_trans, y_train)\n",
    "lr_ytrue, lr_ypred = y_test, lr_clf.predict(X_test_trans)\n",
    "print(classification_report(lr_ytrue, lr_ypred))"
   ]
  },
  {
   "cell_type": "code",
   "execution_count": 211,
   "metadata": {},
   "outputs": [
    {
     "data": {
      "text/plain": [
       "array([[ 0.3853696 ,  1.14411898, -0.03535726,  0.12850667]])"
      ]
     },
     "execution_count": 211,
     "metadata": {},
     "output_type": "execute_result"
    }
   ],
   "source": [
    "lr_clf.coef_"
   ]
  },
  {
   "cell_type": "code",
   "execution_count": 225,
   "metadata": {},
   "outputs": [
    {
     "data": {
      "text/plain": [
       "array([3.44460215e-15, 2.94211729e-37, 2.27896441e-02, 1.42085389e-14])"
      ]
     },
     "execution_count": 225,
     "metadata": {},
     "output_type": "execute_result"
    },
    {
     "data": {
      "image/png": "[encoded data removed]",
      "text/plain": [
       "<Figure size 432x288 with 1 Axes>"
      ]
     },
     "metadata": {},
     "output_type": "display_data"
    }
   ],
   "source": [
    "\n",
    "from sklearn.feature_selection import SelectPercentile, f_classif\n",
    "\n",
    "selector = SelectPercentile(f_classif, percentile=90)\n",
    "selector.fit(X_train_trans, y_train)\n",
    "scores = -np.log10(selector.pvalues_)\n",
    "scores /= scores.max()\n",
    "plt.bar(900 - .45, scores, width=.2,\n",
    "        label=r'Univariate score ($-Log(p_{value})$)', color='darkorange',\n",
    "        edgecolor='black')\n",
    "selector.pvalues_"
   ]
  },
  {
   "cell_type": "code",
   "execution_count": null,
   "metadata": {},
   "outputs": [],
   "source": [
    "def my_score(y, y_)"
   ]
  },
  {
   "cell_type": "code",
   "execution_count": 203,
   "metadata": {},
   "outputs": [],
   "source": [
    "#X_train_trans = rfecv.transform(X_train)\n",
    "X_test_trans = rfecv.transform(X_test)"
   ]
  },
  {
   "cell_type": "code",
   "execution_count": 201,
   "metadata": {},
   "outputs": [
    {
     "data": {
      "text/plain": [
       "4"
      ]
     },
     "execution_count": 201,
     "metadata": {},
     "output_type": "execute_result"
    }
   ],
   "source": [
    "len(X_train_trans[0])"
   ]
  },
  {
   "cell_type": "code",
   "execution_count": 204,
   "metadata": {},
   "outputs": [
    {
     "name": "stdout",
     "output_type": "stream",
     "text": [
      "Build a text report showing the main classification metrics\n",
      "\n",
      "    Read more in the :ref:`User Guide <classification_report>`.\n",
      "\n",
      "    Parameters\n",
      "    ----------\n",
      "    y_true : 1d array-like, or label indicator array / sparse matrix\n",
      "        Ground truth (correct) target values.\n",
      "\n",
      "    y_pred : 1d array-like, or label indicator array / sparse matrix\n",
      "        Estimated targets as returned by a classifier.\n",
      "\n",
      "    labels : array, shape = [n_labels]\n",
      "        Optional list of label indices to include in the report.\n",
      "\n",
      "    target_names : list of strings\n",
      "        Optional display names matching the labels (same order).\n",
      "\n",
      "    sample_weight : array-like of shape = [n_samples], optional\n",
      "        Sample weights.\n",
      "\n",
      "    digits : int\n",
      "        Number of digits for formatting output floating point values.\n",
      "        When ``output_dict`` is ``True``, this will be ignored and the\n",
      "        returned values will not be rounded.\n",
      "\n",
      "    output_dict : bool (default = False)\n",
      "        If True, return output as dict\n",
      "\n",
      "    Returns\n",
      "    -------\n",
      "    report : string / dict\n",
      "        Text summary of the precision, recall, F1 score for each class.\n",
      "        Dictionary returned if output_dict is True. Dictionary has the\n",
      "        following structure::\n",
      "\n",
      "            {'label 1': {'precision':0.5,\n",
      "                         'recall':1.0,\n",
      "                         'f1-score':0.67,\n",
      "                         'support':1},\n",
      "             'label 2': { ... },\n",
      "              ...\n",
      "            }\n",
      "\n",
      "        The reported averages include micro average (averaging the\n",
      "        total true positives, false negatives and false positives), macro\n",
      "        average (averaging the unweighted mean per label), weighted average\n",
      "        (averaging the support-weighted mean per label) and sample average\n",
      "        (only for multilabel classification). See also\n",
      "        :func:`precision_recall_fscore_support` for more details on averages.\n",
      "\n",
      "        Note that in binary classification, recall of the positive class\n",
      "        is also known as \"sensitivity\"; recall of the negative class is\n",
      "        \"specificity\".\n",
      "\n",
      "    Examples\n",
      "    --------\n",
      "    >>> from sklearn.metrics import classification_report\n",
      "    >>> y_true = [0, 1, 2, 2, 2]\n",
      "    >>> y_pred = [0, 0, 2, 2, 1]\n",
      "    >>> target_names = ['class 0', 'class 1', 'class 2']\n",
      "    >>> print(classification_report(y_true, y_pred, target_names=target_names))\n",
      "                  precision    recall  f1-score   support\n",
      "    <BLANKLINE>\n",
      "         class 0       0.50      1.00      0.67         1\n",
      "         class 1       0.00      0.00      0.00         1\n",
      "         class 2       1.00      0.67      0.80         3\n",
      "    <BLANKLINE>\n",
      "       micro avg       0.60      0.60      0.60         5\n",
      "       macro avg       0.50      0.56      0.49         5\n",
      "    weighted avg       0.70      0.60      0.61         5\n",
      "    <BLANKLINE>\n",
      "    \n"
     ]
    },
    {
     "data": {
      "text/plain": [
       "<matplotlib.axes._subplots.AxesSubplot at 0x1a22f7cf60>"
      ]
     },
     "execution_count": 204,
     "metadata": {},
     "output_type": "execute_result"
    },
    {
     "data": {
      "image/png": "[encoded data removed]",
      "text/plain": [
       "<Figure size 432x288 with 1 Axes>"
      ]
     },
     "metadata": {},
     "output_type": "display_data"
    }
   ],
   "source": [
    "from xgboost import XGBRegressor\n",
    "xgbr = XGBRegressor()\n",
    "xgbr.set_params(**xgb.get_params())\n",
    "xgbr.fit(X_train_trans, y_train)\n",
    "gblr_ytrue, gblr_ypred = y_test, xgbr.predict(X_test_trans)\n",
    "\n",
    "print(classification_report.__doc__)\n",
    "plot_importance(xgbr)"
   ]
  },
  {
   "cell_type": "code",
   "execution_count": 207,
   "metadata": {},
   "outputs": [
    {
     "ename": "AttributeError",
     "evalue": "'XGBRegressor' object has no attribute 'evals_result_'",
     "output_type": "error",
     "traceback": [
      "\u001b[0;31m---------------------------------------------------------------------------\u001b[0m",
      "\u001b[0;31mAttributeError\u001b[0m                            Traceback (most recent call last)",
      "\u001b[0;32m<ipython-input-207-603b3d106a7f>\u001b[0m in \u001b[0;36m<module>\u001b[0;34m\u001b[0m\n\u001b[0;32m----> 1\u001b[0;31m \u001b[0mxgbr\u001b[0m\u001b[0;34m.\u001b[0m\u001b[0mevals_result\u001b[0m\u001b[0;34m(\u001b[0m\u001b[0;34m)\u001b[0m\u001b[0;34m.\u001b[0m\u001b[0mitems\u001b[0m\u001b[0;34m\u001b[0m\u001b[0;34m\u001b[0m\u001b[0m\n\u001b[0m",
      "\u001b[0;32m/anaconda/lib/python3.6/site-packages/xgboost/sklearn.py\u001b[0m in \u001b[0;36mevals_result\u001b[0;34m(self)\u001b[0m\n\u001b[1;32m    442\u001b[0m             'validation_1': {'logloss': ['0.41965', '0.17686']}}\n\u001b[1;32m    443\u001b[0m         \"\"\"\n\u001b[0;32m--> 444\u001b[0;31m         \u001b[0;32mif\u001b[0m \u001b[0mself\u001b[0m\u001b[0;34m.\u001b[0m\u001b[0mevals_result_\u001b[0m\u001b[0;34m:\u001b[0m\u001b[0;34m\u001b[0m\u001b[0;34m\u001b[0m\u001b[0m\n\u001b[0m\u001b[1;32m    445\u001b[0m             \u001b[0mevals_result\u001b[0m \u001b[0;34m=\u001b[0m \u001b[0mself\u001b[0m\u001b[0;34m.\u001b[0m\u001b[0mevals_result_\u001b[0m\u001b[0;34m\u001b[0m\u001b[0;34m\u001b[0m\u001b[0m\n\u001b[1;32m    446\u001b[0m         \u001b[0;32melse\u001b[0m\u001b[0;34m:\u001b[0m\u001b[0;34m\u001b[0m\u001b[0;34m\u001b[0m\u001b[0m\n",
      "\u001b[0;31mAttributeError\u001b[0m: 'XGBRegressor' object has no attribute 'evals_result_'"
     ]
    }
   ],
   "source": []
  },
  {
   "cell_type": "code",
   "execution_count": 150,
   "metadata": {
    "scrolled": true
   },
   "outputs": [
    {
     "data": {
      "image/png": "[encoded data removed]",
      "text/plain": [
       "<Figure size 432x288 with 1 Axes>"
      ]
     },
     "metadata": {},
     "output_type": "display_data"
    }
   ],
   "source": [
    "weights = pd.Series(lr_clf.coef_[0], index=dataLabels)\n",
    "weights.plot(kind='bar')\n",
    "plt.show()"
   ]
  },
  {
   "cell_type": "code",
   "execution_count": 114,
   "metadata": {},
   "outputs": [
    {
     "data": {
      "image/png": "[encoded data removed]",
      "text/plain": [
       "<Figure size 432x288 with 1 Axes>"
      ]
     },
     "metadata": {},
     "output_type": "display_data"
    }
   ],
   "source": [
    "plt.style.use('ggplot')\n",
    "\n",
    "\n",
    "weights = pd.Series(xgb.feature_importances_,index=dataLabels)\n",
    "weights.plot(kind='bar')\n",
    "plt.show()"
   ]
  },
  {
   "cell_type": "code",
   "execution_count": 115,
   "metadata": {},
   "outputs": [
    {
     "data": {
      "text/plain": [
       "array([0.04150943, 0.10943396, 0.04150943, 0.04528302, 0.03396226,\n",
       "       0.03396226, 0.04150943, 0.03773585, 0.02641509, 0.05283019,\n",
       "       0.01132075, 0.03396226, 0.03773585, 0.05660377, 0.12830189,\n",
       "       0.1245283 , 0.14339623], dtype=float32)"
      ]
     },
     "execution_count": 115,
     "metadata": {},
     "output_type": "execute_result"
    }
   ],
   "source": [
    "xgb.feature_importances_"
   ]
  },
  {
   "cell_type": "code",
   "execution_count": 117,
   "metadata": {},
   "outputs": [
    {
     "data": {
      "text/plain": [
       "<matplotlib.axes._subplots.AxesSubplot at 0x118524ef0>"
      ]
     },
     "execution_count": 117,
     "metadata": {},
     "output_type": "execute_result"
    },
    {
     "data": {
      "image/png": "[encoded data removed]",
      "text/plain": [
       "<Figure size 432x288 with 1 Axes>"
      ]
     },
     "metadata": {},
     "output_type": "display_data"
    }
   ],
   "source": [
    "import pickle\n",
    "from xgboost import XGBClassifier, plot_importance\n",
    "plot_importance(xgb)"
   ]
  },
  {
   "cell_type": "code",
   "execution_count": 134,
   "metadata": {},
   "outputs": [
    {
     "name": "stdout",
     "output_type": "stream",
     "text": [
      "Plot importance based on fitted trees.\n",
      "\n",
      "    Parameters\n",
      "    ----------\n",
      "    booster : Booster, XGBModel or dict\n",
      "        Booster or XGBModel instance, or dict taken by Booster.get_fscore()\n",
      "    ax : matplotlib Axes, default None\n",
      "        Target axes instance. If None, new figure and axes will be created.\n",
      "    grid : bool, Turn the axes grids on or off.  Default is True (On).\n",
      "    importance_type : str, default \"weight\"\n",
      "        How the importance is calculated: either \"weight\", \"gain\", or \"cover\"\n",
      "\n",
      "        * \"weight\" is the number of times a feature appears in a tree\n",
      "        * \"gain\" is the average gain of splits which use the feature\n",
      "        * \"cover\" is the average coverage of splits which use the feature\n",
      "          where coverage is defined as the number of samples affected by the split\n",
      "    max_num_features : int, default None\n",
      "        Maximum number of top features displayed on plot. If None, all features will be displayed.\n",
      "    height : float, default 0.2\n",
      "        Bar height, passed to ax.barh()\n",
      "    xlim : tuple, default None\n",
      "        Tuple passed to axes.xlim()\n",
      "    ylim : tuple, default None\n",
      "        Tuple passed to axes.ylim()\n",
      "    title : str, default \"Feature importance\"\n",
      "        Axes title. To disable, pass None.\n",
      "    xlabel : str, default \"F score\"\n",
      "        X axis title label. To disable, pass None.\n",
      "    ylabel : str, default \"Features\"\n",
      "        Y axis title label. To disable, pass None.\n",
      "    show_values : bool, default True\n",
      "        Show values on plot. To disable, pass False.\n",
      "    kwargs :\n",
      "        Other keywords passed to ax.barh()\n",
      "\n",
      "    Returns\n",
      "    -------\n",
      "    ax : matplotlib Axes\n",
      "    \n"
     ]
    },
    {
     "data": {
      "text/plain": [
       "{'f1': 29,\n",
       " 'f16': 38,\n",
       " 'f9': 14,\n",
       " 'f5': 9,\n",
       " 'f6': 11,\n",
       " 'f14': 34,\n",
       " 'f0': 11,\n",
       " 'f15': 33,\n",
       " 'f7': 10,\n",
       " 'f13': 15,\n",
       " 'f2': 11,\n",
       " 'f3': 12,\n",
       " 'f8': 7,\n",
       " 'f4': 9,\n",
       " 'f12': 10,\n",
       " 'f11': 9,\n",
       " 'f10': 3}"
      ]
     },
     "execution_count": 134,
     "metadata": {},
     "output_type": "execute_result"
    },
    {
     "data": {
      "image/png": "[encoded data removed]",
      "text/plain": [
       "<Figure size 432x288 with 1 Axes>"
      ]
     },
     "metadata": {},
     "output_type": "display_data"
    }
   ],
   "source": [
    "print(plot_importance.__doc__)\n",
    "plot_importance(xgb, importance_type=\"cover\")\n",
    "xgb.get_booster().get_fscore()"
   ]
  },
  {
   "cell_type": "code",
   "execution_count": null,
   "metadata": {},
   "outputs": [],
   "source": []
  }
 ],
 "metadata": {
  "kernelspec": {
   "display_name": "Python 3",
   "language": "python",
   "name": "python3"
  },
  "language_info": {
   "codemirror_mode": {
    "name": "ipython",
    "version": 3
   },
   "file_extension": ".py",
   "mimetype": "text/x-python",
   "name": "python",
   "nbconvert_exporter": "python",
   "pygments_lexer": "ipython3",
   "version": "3.6.8"
  }
 },
 "nbformat": 4,
 "nbformat_minor": 1
}
